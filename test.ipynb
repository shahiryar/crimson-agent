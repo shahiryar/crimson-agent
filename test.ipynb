{
 "cells": [
  {
   "cell_type": "code",
   "execution_count": 2,
   "metadata": {},
   "outputs": [
    {
     "name": "stderr",
     "output_type": "stream",
     "text": [
      "Some layers from the model checkpoint at shahiryar/crimson-agent were not used when initializing TFDistilBertForSequenceClassification: ['dropout_19']\n",
      "- This IS expected if you are initializing TFDistilBertForSequenceClassification from the checkpoint of a model trained on another task or with another architecture (e.g. initializing a BertForSequenceClassification model from a BertForPreTraining model).\n",
      "- This IS NOT expected if you are initializing TFDistilBertForSequenceClassification from the checkpoint of a model that you expect to be exactly identical (initializing a BertForSequenceClassification model from a BertForSequenceClassification model).\n",
      "Some layers of TFDistilBertForSequenceClassification were not initialized from the model checkpoint at shahiryar/crimson-agent and are newly initialized: ['dropout_39']\n",
      "You should probably TRAIN this model on a down-stream task to be able to use it for predictions and inference.\n"
     ]
    }
   ],
   "source": [
    "from transformers import pipeline\n",
    "classifier = pipeline(\"sentiment-analysis\", model=\"shahiryar/crimson-agent\")"
   ]
  },
  {
   "cell_type": "code",
   "execution_count": 4,
   "metadata": {},
   "outputs": [
    {
     "data": {
      "text/plain": [
       "'subscribe-intent'"
      ]
     },
     "execution_count": 4,
     "metadata": {},
     "output_type": "execute_result"
    }
   ],
   "source": [
    "classifier(\"Hi, I want to subscribe\")[0]['label']"
   ]
  },
  {
   "cell_type": "code",
   "execution_count": 9,
   "metadata": {},
   "outputs": [
    {
     "name": "stdout",
     "output_type": "stream",
     "text": [
      "[(1, 'user'), (2, 'agent'), (3, 'user'), (4, 'agent'), (5, 'user'), (6, 'agent'), (7, 'user')]\n"
     ]
    }
   ],
   "source": [
    "def comb_concat(a, b):\n",
    "    \"\"\"Combines two input lists by alternating elements with labels 'a' and 'b'.\n",
    "\n",
    "    Args:\n",
    "        a: The first list.\n",
    "        b: The second list.\n",
    "\n",
    "    Returns:\n",
    "        A new list of tuples where elements from 'a' and 'b' are \n",
    "        interleaved and labeled with 'a' or 'b'.\n",
    "    \"\"\"\n",
    "\n",
    "    result = []  # Initialize result list \n",
    "\n",
    "    # Use zip to pair elements, ensuring we handle lists of different lengths\n",
    "    for x, y in zip(a, b):\n",
    "        result.append((x, \"user\"))\n",
    "        result.append((y, \"agent\"))\n",
    "\n",
    "    # Add any remaining elements from the longer list with their label\n",
    "    for item in a[len(b):]:\n",
    "        result.append((item, \"user\"))\n",
    "    for item in b[len(a):]:\n",
    "        result.append((item, \"agent\"))\n",
    "    \n",
    "    return result\n",
    "\n",
    "# Example usage  \n",
    "a = [1, 3, 5, 7]\n",
    "b = [2, 4, 6]\n",
    "combined_list = comb_concat(a, b)\n",
    "print(combined_list)\n"
   ]
  },
  {
   "cell_type": "code",
   "execution_count": 7,
   "metadata": {},
   "outputs": [
    {
     "data": {
      "text/plain": [
       "[1, 2, 3, 4, 5]"
      ]
     },
     "execution_count": 7,
     "metadata": {},
     "output_type": "execute_result"
    }
   ],
   "source": [
    "comb_concat([1,3,5], [2,4])"
   ]
  },
  {
   "cell_type": "code",
   "execution_count": 5,
   "metadata": {},
   "outputs": [
    {
     "ename": "SyntaxError",
     "evalue": "invalid syntax. Perhaps you forgot a comma? (567581639.py, line 2)",
     "output_type": "error",
     "traceback": [
      "\u001b[1;36m  Cell \u001b[1;32mIn[5], line 2\u001b[1;36m\u001b[0m\n\u001b[1;33m    for user_msg, agent_msg in zip(convo[])\u001b[0m\n\u001b[1;37m                                   ^\u001b[0m\n\u001b[1;31mSyntaxError\u001b[0m\u001b[1;31m:\u001b[0m invalid syntax. Perhaps you forgot a comma?\n"
     ]
    }
   ],
   "source": [
    "convo = {\"user\": [1,3], \"agent\":[2]}\n",
    "\n"
   ]
  },
  {
   "cell_type": "code",
   "execution_count": 14,
   "metadata": {},
   "outputs": [],
   "source": [
    "required_context = [\"name\"]"
   ]
  },
  {
   "cell_type": "code",
   "execution_count": 18,
   "metadata": {},
   "outputs": [
    {
     "name": "stdout",
     "output_type": "stream",
     "text": [
      "No Get Context\n"
     ]
    }
   ],
   "source": [
    "\n",
    "if required_context:\n",
    "    print(\"Get context\")\n",
    "    required_context.pop()\n",
    "else:\n",
    "    print(\"No Get Context\")"
   ]
  },
  {
   "cell_type": "code",
   "execution_count": null,
   "metadata": {},
   "outputs": [],
   "source": []
  },
  {
   "cell_type": "code",
   "execution_count": null,
   "metadata": {},
   "outputs": [],
   "source": []
  }
 ],
 "metadata": {
  "kernelspec": {
   "display_name": "venv",
   "language": "python",
   "name": "python3"
  },
  "language_info": {
   "codemirror_mode": {
    "name": "ipython",
    "version": 3
   },
   "file_extension": ".py",
   "mimetype": "text/x-python",
   "name": "python",
   "nbconvert_exporter": "python",
   "pygments_lexer": "ipython3",
   "version": "3.12.2"
  }
 },
 "nbformat": 4,
 "nbformat_minor": 2
}
